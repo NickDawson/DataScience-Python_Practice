{
 "cells": [
  {
   "cell_type": "markdown",
   "metadata": {},
   "source": [
    "<b><h3>Question1</h3></b>"
   ]
  },
  {
   "cell_type": "code",
   "execution_count": 2,
   "metadata": {},
   "outputs": [
    {
     "name": "stdout",
     "output_type": "stream",
     "text": [
      "Centigrade\tFahrenheit\n",
      "-40\t\t-40.000\n",
      "-35\t\t-31.000\n",
      "-30\t\t-22.000\n",
      "-25\t\t-13.000\n",
      "-20\t\t-4.000\n",
      "-15\t\t5.000\n",
      "-10\t\t14.000\n",
      "-5\t\t23.000\n",
      "0\t\t32.000\n",
      "5\t\t41.000\n",
      "10\t\t50.000\n",
      "15\t\t59.000\n",
      "20\t\t68.000\n",
      "25\t\t77.000\n",
      "30\t\t86.000\n",
      "35\t\t95.000\n",
      "40\t\t104.000\n"
     ]
    }
   ],
   "source": [
    "print(\"Centigrade\\tFahrenheit\")\n",
    "for centigrade_temp in range(-40,41):\n",
    "    #Check if the number is divisible by five\n",
    "    if centigrade_temp%5 == 0:\n",
    "        #Convert to Fahreinheit\n",
    "        fahrenheit_temp = 1.8*centigrade_temp + 32\n",
    "        #Print centigrade and Farenheit temperature\n",
    "        print(\"%d\\t\\t%.3f\"%(centigrade_temp, fahrenheit_temp))"
   ]
  },
  {
   "cell_type": "markdown",
   "metadata": {},
   "source": [
    "<b><h3>Question 02</h3></b>"
   ]
  },
  {
   "cell_type": "code",
   "execution_count": 4,
   "metadata": {},
   "outputs": [
    {
     "name": "stdout",
     "output_type": "stream",
     "text": [
      "Centigrade\tFahrenheit\n",
      "-40\t\t-40.000\n",
      "-35\t\t-31.000\n",
      "-30\t\t-22.000\n",
      "-25\t\t-13.000\n",
      "-20\t\t-4.000\n",
      "-15\t\t5.000\n",
      "-10\t\t14.000\n",
      "-5\t\t23.000\n",
      "0\t\t32.000\n",
      "5\t\t41.000\n",
      "10\t\t50.000\n",
      "15\t\t59.000\n",
      "20\t\t68.000\n",
      "25\t\t77.000\n",
      "30\t\t86.000\n",
      "35\t\t95.000\n",
      "40\t\t104.000\n"
     ]
    }
   ],
   "source": [
    "# We do by while loop\n",
    "\n",
    "centigrade_temp = -40\n",
    "print(\"Centigrade\\tFahrenheit\")\n",
    "while centigrade_temp < 41:\n",
    "    # Convert to Fahreinheit\n",
    "    fahrenheit_temp = 1.8*centigrade_temp + 32\n",
    "    # Print centigrade and farenheit temperature\n",
    "    print(\"%d\\t\\t%.3f\"%(centigrade_temp,fahrenheit_temp))\n",
    "    #Increment the temp\n",
    "    centigrade_temp = centigrade_temp + 5"
   ]
  },
  {
   "cell_type": "code",
   "execution_count": 11,
   "metadata": {},
   "outputs": [
    {
     "name": "stdout",
     "output_type": "stream",
     "text": [
      "Enter starting point: 14\n",
      "Enter ending point: 3\n",
      "There are 6  Even numbers between  14  and  3\n",
      "Average of even numbers between  14  and  3  (all inclusive) is:  9\n"
     ]
    }
   ],
   "source": [
    "#Get Numbers\n",
    "\n",
    "while True:\n",
    "    starting_point = int(input(\"Enter starting point: \"))\n",
    "    #Checking if the number entered is positive\n",
    "    if starting_point > 0:\n",
    "        break\n",
    "        \n",
    "while True:\n",
    "    ending_point = int(input(\"Enter ending point: \"))\n",
    "    #Checking if the number entered is positive\n",
    "    if ending_point > 0:\n",
    "        break\n",
    "        \n",
    "# Initialize range container\n",
    "all_numbers_range = None\n",
    "\n",
    "# Determine the lowest number entered and form the range\n",
    "if starting_point < ending_point:\n",
    "    all_numbers_range = range(starting_point,ending_point+1)\n",
    "else:\n",
    "    all_numbers_range = range(ending_point,starting_point+1)\n",
    "    \n",
    "# Initialize event number counter\n",
    "even_numbers_counter = 0\n",
    "total_even_numbers = 0\n",
    "\n",
    "#For loop\n",
    "for number in all_numbers_range:\n",
    "    #check if number is even\n",
    "    if number % 2 == 0:\n",
    "        #Count even number\n",
    "        even_numbers_counter += 1\n",
    "        # sum up the even number\n",
    "        total_even_numbers += number\n",
    "\n",
    "# Average of the even number in a range\n",
    "average_of_even = int(total_even_numbers/even_numbers_counter)\n",
    "\n",
    "#Now we display the results\n",
    "print(\"There are\",even_numbers_counter,\" Even numbers between \",starting_point,\" and \",ending_point)\n",
    "print(\"Average of even numbers between \",starting_point,\" and \", ending_point,\" (all inclusive) is: \",average_of_even)"
   ]
  },
  {
   "cell_type": "markdown",
   "metadata": {},
   "source": [
    "<b><h3>Question 04</h3></b>"
   ]
  },
  {
   "cell_type": "code",
   "execution_count": null,
   "metadata": {},
   "outputs": [],
   "source": [
    "all_marks = \"\"\n",
    "for student in range(1,11):\n",
    "    while True:\n",
    "        mark = input(\"Enter the marks of student \"+str(student)+\" : \")\n",
    "        # We check if entered mark is within range\n",
    "        entered_mark = float(mark)\n",
    "        if 0 < entered_mark < 100:\n",
    "            if student == 10:\n",
    "                all_marks += mark\n",
    "            else:\n",
    "                all_marks = all_marks + mark + \",\"\n",
    "            break"
   ]
  },
  {
   "cell_type": "code",
   "execution_count": null,
   "metadata": {},
   "outputs": [],
   "source": []
  }
 ],
 "metadata": {
  "kernelspec": {
   "display_name": "Python 3",
   "language": "python",
   "name": "python3"
  },
  "language_info": {
   "codemirror_mode": {
    "name": "ipython",
    "version": 3
   },
   "file_extension": ".py",
   "mimetype": "text/x-python",
   "name": "python",
   "nbconvert_exporter": "python",
   "pygments_lexer": "ipython3",
   "version": "3.8.2"
  }
 },
 "nbformat": 4,
 "nbformat_minor": 4
}
