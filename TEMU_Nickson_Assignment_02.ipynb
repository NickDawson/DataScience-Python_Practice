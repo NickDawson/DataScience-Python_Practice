{
 "cells": [
  {
   "cell_type": "markdown",
   "metadata": {},
   "source": [
    "<b><h3>Question1</h3></b>"
   ]
  },
  {
   "cell_type": "code",
   "execution_count": 2,
   "metadata": {},
   "outputs": [
    {
     "name": "stdout",
     "output_type": "stream",
     "text": [
      "Centigrade\tFahrenheit\n",
      "-40\t\t-40.000\n",
      "-35\t\t-31.000\n",
      "-30\t\t-22.000\n",
      "-25\t\t-13.000\n",
      "-20\t\t-4.000\n",
      "-15\t\t5.000\n",
      "-10\t\t14.000\n",
      "-5\t\t23.000\n",
      "0\t\t32.000\n",
      "5\t\t41.000\n",
      "10\t\t50.000\n",
      "15\t\t59.000\n",
      "20\t\t68.000\n",
      "25\t\t77.000\n",
      "30\t\t86.000\n",
      "35\t\t95.000\n",
      "40\t\t104.000\n"
     ]
    }
   ],
   "source": [
    "print(\"Centigrade\\tFahrenheit\")\n",
    "for centigrade_temp in range(-40,41):\n",
    "    #Check if the number is divisible by five\n",
    "    if centigrade_temp%5 == 0:\n",
    "        #Convert to Fahreinheit\n",
    "        fahrenheit_temp = 1.8*centigrade_temp + 32\n",
    "        #Print centigrade and Farenheit temperature\n",
    "        print(\"%d\\t\\t%.3f\"%(centigrade_temp, fahrenheit_temp))"
   ]
  },
  {
   "cell_type": "code",
   "execution_count": null,
   "metadata": {},
   "outputs": [],
   "source": []
  }
 ],
 "metadata": {
  "kernelspec": {
   "display_name": "Python 3",
   "language": "python",
   "name": "python3"
  },
  "language_info": {
   "codemirror_mode": {
    "name": "ipython",
    "version": 3
   },
   "file_extension": ".py",
   "mimetype": "text/x-python",
   "name": "python",
   "nbconvert_exporter": "python",
   "pygments_lexer": "ipython3",
   "version": "3.8.2"
  }
 },
 "nbformat": 4,
 "nbformat_minor": 4
}
