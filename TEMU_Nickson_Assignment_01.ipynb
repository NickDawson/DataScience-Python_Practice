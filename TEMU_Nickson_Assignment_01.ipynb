{
 "cells": [
  {
   "cell_type": "markdown",
   "metadata": {},
   "source": [
    "<i><b><h3>Question 01</h3></b></i>"
   ]
  },
  {
   "cell_type": "markdown",
   "metadata": {},
   "source": [
    "<p>\n",
    "Write a program  that prompts the user (using input() function) to enter degrees in \n",
    "Centigrade (float value) and in turn displays entered degrees and the corresponding\n",
    "degrees in Fahrenheit using 3 decimal places. Test your program (one at a time)\n",
    "using following values: (a) 100°C (b) -40°C (c) 40°C\n",
    "    \n",
    "Sample display should be: \n",
    "    Enter degree in Centigrade:....\n",
    "    .... degrees Centigrade = .... degrees Fahrenheit\n",
    "</p>"
   ]
  },
  {
   "cell_type": "code",
   "execution_count": 2,
   "metadata": {},
   "outputs": [
    {
     "name": "stdout",
     "output_type": "stream",
     "text": [
      "Centigrade\tFahrenheit\n",
      "-40\t\t-40.000\n",
      "-35\t\t-31.000\n",
      "-30\t\t-22.000\n",
      "-25\t\t-13.000\n",
      "-20\t\t-4.000\n",
      "-15\t\t5.000\n",
      "-10\t\t14.000\n",
      "-5\t\t23.000\n",
      "0\t\t32.000\n",
      "5\t\t41.000\n",
      "10\t\t50.000\n",
      "15\t\t59.000\n",
      "20\t\t68.000\n",
      "25\t\t77.000\n",
      "30\t\t86.000\n",
      "35\t\t95.000\n",
      "40\t\t104.000\n"
     ]
    }
   ],
   "source": [
    "print(\"Centigrade\\tFahrenheit\")\n",
    "for centigrade_temp in range(-40,41):\n",
    "    #check if the number is divisible by five\n",
    "    if centigrade_temp%5 == 0:\n",
    "        #Convert to Fahreinheit\n",
    "        fahrenheit_temp = 1.8*centigrade_temp + 32\n",
    "        #print centigrade and fahreinheit temperature\n",
    "        print(\"%d\\t\\t%.3f\"%(centigrade_temp,fahrenheit_temp))"
   ]
  },
  {
   "cell_type": "code",
   "execution_count": 3,
   "metadata": {},
   "outputs": [
    {
     "name": "stdout",
     "output_type": "stream",
     "text": [
      "Centigrade\tFahrenheit\n",
      "-40\t\t-40.000\n",
      "-35\t\t-31.000\n",
      "-30\t\t-22.000\n",
      "-25\t\t-13.000\n",
      "-20\t\t-4.000\n",
      "-15\t\t5.000\n",
      "-10\t\t14.000\n",
      "-5\t\t23.000\n",
      "0\t\t32.000\n",
      "5\t\t41.000\n",
      "10\t\t50.000\n",
      "15\t\t59.000\n",
      "20\t\t68.000\n",
      "25\t\t77.000\n",
      "30\t\t86.000\n",
      "35\t\t95.000\n",
      "40\t\t104.000\n"
     ]
    }
   ],
   "source": [
    "centigrade_temp = -40\n",
    "print(\"Centigrade\\tFahrenheit\")\n",
    "while centigrade_temp < 41:\n",
    "    # Convert to Fahreinheit\n",
    "    fahrenheit_temp = 1.8*centigrade_temp + 32\n",
    "    # print centigrade and fahrenheit temperature\n",
    "    print(\"%d\\t\\t%.3f\"%(centigrade_temp,fahrenheit_temp))\n",
    "    #Increment the temperature\n",
    "    centigrade_temp = centigrade_temp + 5"
   ]
  },
  {
   "cell_type": "markdown",
   "metadata": {},
   "source": [
    "<i><b><h3>Question 02</h3></b></i>"
   ]
  },
  {
   "cell_type": "markdown",
   "metadata": {},
   "source": [
    "<p>\n",
    "Write a program that prompts user to enter his/her fullname (three names) in the\n",
    "order of Firstname Middlename and Surname(lastname). The names are separated using\n",
    "a single space.\n",
    "\n",
    "<b>Example</b> Charles Pwaguzi Tototundu where Charles is the first name, Pwaguzi\n",
    "is the middle name and Tototundu is the lastname.\n",
    "\n",
    "With the aid of split function and other functions, the program should be able to\n",
    "perform following services (all in one cell). The program should be general for ANY three names entered.\n",
    "\n",
    "   (a)Display entered fullname\n",
    "    \n",
    "   (b)Display the fullname starting with surname in capital letters followed by comma followed by initials. Example. TOTOTUNDU,C.P.\n",
    "\n",
    "\n",
    "   (c)Display how many vowels are contained in the fullname. Hint. Vowels are characters a,e,i,o,u/ A,E,I,O,U\n",
    "    \n",
    "   (d)Display the word True if the substring ma is found in the fullname\n",
    "</p>"
   ]
  },
  {
   "cell_type": "markdown",
   "metadata": {},
   "source": [
    "<b><h3>Answer : Question 02</h3></b>"
   ]
  },
  {
   "cell_type": "code",
   "execution_count": 4,
   "metadata": {},
   "outputs": [
    {
     "name": "stdout",
     "output_type": "stream",
     "text": [
      "Enter your fullname: Nickson Dawson Temu\n",
      "Entered Fullname is: Nickson Dawson Temu\n",
      "Capitalized Surname and initials is:  TEMU ,  N . D .\n",
      "Number of vowels in the fullname is:  6\n"
     ]
    },
    {
     "ename": "NameError",
     "evalue": "name 'name_2' is not defined",
     "output_type": "error",
     "traceback": [
      "\u001b[1;31m---------------------------------------------------------------------------\u001b[0m",
      "\u001b[1;31mNameError\u001b[0m                                 Traceback (most recent call last)",
      "\u001b[1;32m<ipython-input-4-164634df9ce1>\u001b[0m in \u001b[0;36m<module>\u001b[1;34m\u001b[0m\n\u001b[0;32m     21\u001b[0m \u001b[0mtotal_vowels\u001b[0m \u001b[1;33m=\u001b[0m \u001b[0ma\u001b[0m\u001b[1;33m+\u001b[0m\u001b[0me\u001b[0m\u001b[1;33m+\u001b[0m\u001b[0mi\u001b[0m\u001b[1;33m+\u001b[0m\u001b[0mo\u001b[0m\u001b[1;33m+\u001b[0m\u001b[0mu\u001b[0m\u001b[1;33m\u001b[0m\u001b[1;33m\u001b[0m\u001b[0m\n\u001b[0;32m     22\u001b[0m \u001b[0mprint\u001b[0m\u001b[1;33m(\u001b[0m\u001b[1;34m\"Number of vowels in the fullname is: \"\u001b[0m\u001b[1;33m,\u001b[0m\u001b[0mtotal_vowels\u001b[0m\u001b[1;33m)\u001b[0m\u001b[1;33m\u001b[0m\u001b[1;33m\u001b[0m\u001b[0m\n\u001b[1;32m---> 23\u001b[1;33m \u001b[0mprint\u001b[0m\u001b[1;33m(\u001b[0m\u001b[1;34m\"Substring \\'ma\\' exists in fullname(True/False): \"\u001b[0m\u001b[1;33m,\u001b[0m\u001b[1;34m\"ma\"\u001b[0m \u001b[1;32min\u001b[0m \u001b[0mname_2\u001b[0m\u001b[1;33m)\u001b[0m\u001b[1;33m\u001b[0m\u001b[1;33m\u001b[0m\u001b[0m\n\u001b[0m",
      "\u001b[1;31mNameError\u001b[0m: name 'name_2' is not defined"
     ]
    }
   ],
   "source": [
    "# We first need to prompt a user to enter fullnames\n",
    "#first we need to prompt a user to enter fullnames\n",
    "name=input(\"Enter your fullname: \")\n",
    "print(\"Entered Fullname is: \"+name)\n",
    "# variable name1 represent variable name splited by space\n",
    "name1=name.split()\n",
    "\n",
    "print(\"Capitalized Surname and initials is: \",name1[2].upper(),\", \",name1[0][0].upper(),\".\",name1[1][0].upper(),\".\")\n",
    "\n",
    "# variable name_2 represents fullname(variable name) in lower case\n",
    "name2=name.lower()\n",
    "\n",
    "#variable a represent count of vowel a in a fullname(lower case), \n",
    "#variable e represent count of vowel e in a fullname(lower case), \n",
    "#variable i represent count of vowel i in a fullname(lower case),\n",
    "#variable o represent count of vowel o in a fullname(lower case) and \n",
    "#variable u represent count of vowel u in a fullname(lower case)\n",
    "a=name2.count(\"a\") ; e=name2.count(\"e\") ; i=name2.count(\"i\") ; o=name2.count(\"o\") ; u=name2.count(\"u\")\n",
    "\n",
    "# variable total_vowel represent total numer of vowels in the fullname(lower case)\n",
    "total_vowels = a+e+i+o+u\n",
    "print(\"Number of vowels in the fullname is: \",total_vowels)\n",
    "print(\"Substring \\'ma\\' exists in fullname(True/False): \",\"ma\" in name2)\n"
   ]
  },
  {
   "cell_type": "code",
   "execution_count": null,
   "metadata": {},
   "outputs": [],
   "source": []
  }
 ],
 "metadata": {
  "kernelspec": {
   "display_name": "Python 3",
   "language": "python",
   "name": "python3"
  }
 },
 "nbformat": 4,
 "nbformat_minor": 4
}
